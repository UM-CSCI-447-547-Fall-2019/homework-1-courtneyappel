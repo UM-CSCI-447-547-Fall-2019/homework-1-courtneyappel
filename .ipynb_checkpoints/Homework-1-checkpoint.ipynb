{
 "cells": [
  {
   "cell_type": "markdown",
   "metadata": {},
   "source": [
    "# Homework 1: Reading data and regression\n",
    "## Due September 5th\n",
    "\n",
    "In class we've been working on developing the tools for linear regression.  In this homework, we'll use those tools to show that one of the original 'big data' problems can be solved quite credibly with ordinary least squares.  Note that this exercise is primarily intended to do two things: 1) provide you with some practice gathering data, and 2) evaluate your ability to reason somewhat abstractly about models.  With respect to the second point, it is in your grade's interest to provide complete and well-reasoned answers to narrative questions posed.  A correct answer can be awarded very few points if its reasoning is absent or unclear, and an incorrect answer can be awarded full points if it is well argued.   \n",
    "\n",
    "Please turn in your work via github classroom.\n",
    "\n",
    "## The big one\n",
    "If you've ever lived in an area prone to seismic activity, you know that people are always a little apprehensive about *the big one*, that giant earthquake (Magnitude greater than 7) that is going to break the pots and collapse the overpasses.  However, the big one rarely happens... until it does.  What happens more frequently is smaller earthquakes.  And even more frequently than that, even smaller earthquakes.  In fact, it's long been understood that earthquake frequency has an inverse relationship with magnitude.  Here, we're going to quantify that relationship for the west coast of the US.  \n",
    "\n",
    "## Data wrangling\n",
    "The first thing that we'll need to do is to aquire a dataset that can help us say something about earthquake frequency.  Fortunately, the United States Geologic Survey keeps such a database.  \n",
    "\n",
    "First, navigate to https://earthquake.usgs.gov/earthquakes/search/.  This is the USGS' central repository for earthquake data.  We'll be interested in data from the last twenty years.  Enter the appropriate date.  Next, we're interested in data from the west coast of the lower 48.  Use the Custom Geographic Region button on the right side of the page, followed by the Draw Rectangle on the Map button.  Draw a rectangle around the west coast, from the Canadian to Mexican border.  Next, open the Output Options tab and select .csv (comma separated values, a plain text format).  Finally, under Limit Results, enter 19999 (the site will throw an error if you make this value bigger).  This series of commands will deliver the ~20k most recent earthquakes of all sizes to occur in this region of the world.  It may take a moment for their server to pull your query together. Download the file.\n",
    "\n",
    "Next, import the data into ipython.  This is easily done with [Pandas' read_csv function](https://pandas.pydata.org/pandas-docs/stable/reference/api/pandas.read_csv.html)."
   ]
  },
  {
   "cell_type": "code",
   "execution_count": null,
   "metadata": {},
   "outputs": [],
   "source": [
    "# Use pandas to import the earthquake data file here\n"
   ]
  },
  {
   "cell_type": "markdown",
   "metadata": {},
   "source": [
    "Interrogate the Pandas dataframe for the available fields using its built in method 'keys'\n"
   ]
  },
  {
   "cell_type": "code",
   "execution_count": 133,
   "metadata": {},
   "outputs": [
    {
     "data": {
      "text/plain": [
       "Index(['time', 'latitude', 'longitude', 'depth', 'mag', 'magType', 'nst',\n",
       "       'gap', 'dmin', 'rms', 'net', 'id', 'updated', 'place', 'type',\n",
       "       'horizontalError', 'depthError', 'magError', 'magNst', 'status',\n",
       "       'locationSource', 'magSource'],\n",
       "      dtype='object')"
      ]
     },
     "execution_count": 133,
     "metadata": {},
     "output_type": "execute_result"
    }
   ],
   "source": [
    "import pandas as pd\n",
    "import matplotlib.pyplot as plt\n",
    "data=pd.read_csv('query.csv')\n",
    "data.keys()"
   ]
  },
  {
   "cell_type": "markdown",
   "metadata": {},
   "source": [
    "We're primarily interested in determining the relationship between relative frequency and magnitude.  Extract the magnitude variable from the pandas data frame using the 'mag' key.  \n",
    "\n",
    "Next, you'll need to determine the number of earthquakes that occured in the data as a function of magnitude.  This is easily done by deciding on a set of bins, and then counting the number of items in each bin.  This is also known as a [histogram](https://docs.scipy.org/doc/numpy/reference/generated/numpy.histogram.html), and is easily computed using either numpy or matplotlib.  You'll want to use a fairly large number of bins, say 50 (equally spaced).  *Note that the histogram function provided by either of the above libraries returns total counts rather than relative frequencies: you'll need to compute relative frequencies by dividing the returned counts by the total number of earthquakes in the dataset.*"
   ]
  },
  {
   "cell_type": "code",
   "execution_count": 134,
   "metadata": {
    "scrolled": true
   },
   "outputs": [
    {
     "data": {
      "text/plain": [
       "(array([4.025e+03, 3.034e+03, 2.677e+03, 2.128e+03, 1.827e+03, 1.388e+03,\n",
       "        9.090e+02, 7.920e+02, 5.920e+02, 5.050e+02, 5.170e+02, 3.020e+02,\n",
       "        2.600e+02, 1.830e+02, 1.640e+02, 1.340e+02, 7.700e+01, 1.100e+02,\n",
       "        7.800e+01, 5.600e+01, 6.000e+01, 4.300e+01, 3.300e+01, 2.500e+01,\n",
       "        1.300e+01, 1.500e+01, 1.000e+01, 7.000e+00, 4.000e+00, 2.000e+00,\n",
       "        7.000e+00, 5.000e+00, 4.000e+00, 2.000e+00, 1.000e+00, 1.000e+00,\n",
       "        1.000e+00, 1.000e+00, 0.000e+00, 0.000e+00, 0.000e+00, 1.000e+00,\n",
       "        2.000e+00, 1.000e+00, 0.000e+00, 1.000e+00, 0.000e+00, 0.000e+00,\n",
       "        1.000e+00, 1.000e+00]),\n",
       " array([2.5  , 2.594, 2.688, 2.782, 2.876, 2.97 , 3.064, 3.158, 3.252,\n",
       "        3.346, 3.44 , 3.534, 3.628, 3.722, 3.816, 3.91 , 4.004, 4.098,\n",
       "        4.192, 4.286, 4.38 , 4.474, 4.568, 4.662, 4.756, 4.85 , 4.944,\n",
       "        5.038, 5.132, 5.226, 5.32 , 5.414, 5.508, 5.602, 5.696, 5.79 ,\n",
       "        5.884, 5.978, 6.072, 6.166, 6.26 , 6.354, 6.448, 6.542, 6.636,\n",
       "        6.73 , 6.824, 6.918, 7.012, 7.106, 7.2  ]),\n",
       " <a list of 50 Patch objects>)"
      ]
     },
     "execution_count": 134,
     "metadata": {},
     "output_type": "execute_result"
    },
    {
     "data": {
      "image/png": "[encoded data removed]",
      "text/plain": [
       "<Figure size 432x288 with 1 Axes>"
      ]
     },
     "metadata": {
      "needs_background": "light"
     },
     "output_type": "display_data"
    }
   ],
   "source": [
    "m=data.mag\n",
    "plt.hist(m,bins=50)"
   ]
  },
  {
   "cell_type": "markdown",
   "metadata": {},
   "source": [
    "**(20 pts) Make a plot with bin centroids on the $x$-axis and relative frequency on the $y$-axis.  Based on your results, please provide a few sentences describing whether the model $y = w_0 + w_1 x$ is a good fit to the data, if $x$ represents earthquake magnitude and $y$ represents relative frequency.**\n",
    "\n",
    "$y = w_0 + w_1 x$ would not fit well with this data because there is not a linear relationship between the two variables. Trying to fit a negative linear regression to this data set would not make sense, as linear relationships form a straight line and here we have curve. With the goal being to minimize error when fitting a line, the linear regression code would not be successful."
   ]
  },
  {
   "cell_type": "code",
   "execution_count": 135,
   "metadata": {},
   "outputs": [
    {
     "data": {
      "text/plain": [
       "Text(0.5, 1.0, 'Relative Frequency of Magnitudes')"
      ]
     },
     "execution_count": 135,
     "metadata": {},
     "output_type": "execute_result"
    },
    {
     "data": {
      "image/png": "[encoded data removed]",
      "text/plain": [
       "<Figure size 432x288 with 1 Axes>"
      ]
     },
     "metadata": {
      "needs_background": "light"
     },
     "output_type": "display_data"
    }
   ],
   "source": [
    "import numpy as ny\n",
    "\n",
    "c,b=ny.histogram(m,bins=50)\n",
    "c=c/len(data.mag)\n",
    "plt.hist(b[:-1],b,weights=c)\n",
    "\n",
    "plt.xlabel(\"Magnatude\")\n",
    "plt.ylabel(\"Relative Frequency\")\n",
    "plt.title(\"Relative Frequency of Magnitudes\")\n"
   ]
  },
  {
   "cell_type": "markdown",
   "metadata": {},
   "source": [
    "As it turns out, a physical model that gives the predicted relative frequency of earthquakes of different magnitudes can be derived from physics, and is given by a so-called *power-law*\n",
    "$$\n",
    "y = ax^b\n",
    "$$\n",
    "**(20pts) If you wanted to directly fit this power-law model to these data, would you be able to use the linear regression code that we've already developed to do so?  If so, how?  If not, why not?**\n",
    "\n",
    "!Answers go here\n",
    "No, using the linear regression code would not be ideal because there is not linear. The curve on the histogram make it apparent that a linear regression would not fit - it is clearly curved."
   ]
  },
  {
   "cell_type": "markdown",
   "metadata": {},
   "source": [
    "As it turns out, it is not possible to use linear regression to fit this model directly.  However, it can be done by using a clever transformation of the data.  **(20pts) Plot the base-10 logarithm of the event counts.  Now does a linear model seem like a good fit?  If the power law is a good fit to the untransformed data, why does it make sense that a linear model should fit the log-transformed data (HINT: take the logarithm of both sides of the power law)**\n",
    "\n",
    "**(UPDATE!)** I should have noted this before: The earthquake magnitude $x$ has *already* been log-transformed, which is to say that a magnitude 7 is 10 times more powerful than a magnitude 6.  The power law stated above applies to the earthquake strength prior to it having the logarithm taken.  As such, a more reasonable way to state the question would be as follows: A physical model that gives the predicted relative frequency of earthquakes of different magnitudes can be derived from physics and is given by a so-called *power-law*\n",
    "$$\n",
    "y = a P^b,\n",
    "$$\n",
    "where $P=10^x$. Show that taking the logarithm of both sides of this equation leads to a linear relationship between the earthquake magnitude $x$ and the log-frequency $\\text{log}_{10}(y)$. \n",
    "\n",
    "I struggled to get the line to graph, but after the transformation the dataset does appear to have a more lineaar relationship and a linear regression would fit nicely."
   ]
  },
  {
   "cell_type": "markdown",
   "metadata": {},
   "source": [
    "Finally, **(40pts) use one of the methods that you developed for linear regression in class to fit a line to the log-transformed counts.  What is the slope of that line?  Is the model a good fit for all sizes of earthquake?**\n",
    "\n",
    "!Answers go here"
   ]
  },
  {
   "cell_type": "code",
   "execution_count": 141,
   "metadata": {},
   "outputs": [
    {
     "name": "stdout",
     "output_type": "stream",
     "text": [
      "\n",
      "\n",
      "\n",
      "\n",
      "\n",
      "\n",
      "intercept, slope:\n",
      "[-1.40594061 -0.2208698 ]\n",
      "equation: y = -0.2208698*x+-1.40594061\n"
     ]
    },
    {
     "data": {
      "text/plain": [
       "Text(0.5, 1.0, 'Linear Regression')"
      ]
     },
     "execution_count": 141,
     "metadata": {},
     "output_type": "execute_result"
    },
    {
     "data": {
      "image/png": "[encoded data removed]",
      "text/plain": [
       "<Figure size 432x288 with 1 Axes>"
      ]
     },
     "metadata": {
      "needs_background": "light"
     },
     "output_type": "display_data"
    }
   ],
   "source": [
    "import math\n",
    "\n",
    "def fit_poly(x,y,d):\n",
    "    # Fit a polynomial of degree d to the univariate data (x,y)\n",
    "    # Note technically, this fits a polynomial of degree d-1 (d=1 fits a constant, d=2 a line, etc.)\n",
    "    X = np.vander(x,d,increasing=True)\n",
    "    w = np.linalg.solve(X.T@X,X.T@y.ravel())\n",
    "    y_pred = X @ w\n",
    "    return y_pred,w\n",
    "\n",
    "def evaluate_poly(x,w):\n",
    "    # For a given set of weights (e.g. the ones produced by fit_poly),\n",
    "    # evaluate the model on x\n",
    "    X = np.vander(x,len(w),increasing=True)\n",
    "    return X @ w\n",
    "\n",
    "def get_smooth_prediction(w,xmin=2.5,xmax=7):\n",
    "    # The test and training data are out of order and irregularly spaced;\n",
    "    # if we want to look at the resulting curves, we want to evaluate the \n",
    "    # fitted polynomial on a dataset that is smooth and dense.\n",
    "    x = np.linspace(xmin,xmax,101)\n",
    "    y = evaluate_poly(x,w)\n",
    "    return x,y\n",
    "\n",
    "c,b=ny.histogram(m,bins=50)\n",
    "c=c/len(data.mag)\n",
    "\n",
    "n=[0]*50\n",
    "\n",
    "for i in range(0,49):\n",
    "    n[i]=b[i]\n",
    "\n",
    "\n",
    "for i in range(0,50):\n",
    "    if c[i]!=0:\n",
    "        c[i]=np.log10(c[i])\n",
    "    else:\n",
    "        print('')\n",
    "    \n",
    "xtrain = n\n",
    "ytrain = c\n",
    "\n",
    "d = 2\n",
    "\n",
    "y_pred_train,w = fit_poly(xtrain,ytrain,d)\n",
    "x_plotting,y_plotting = get_smooth_prediction(w)\n",
    "\n",
    "plt.hist(b[:-1],b,weights=c)\n",
    "print('Could not get the line to properly fit over the graph. Here is my information.')\n",
    "print('intercept, slope:')\n",
    "print(w)\n",
    "print('equation: y = -0.2208698*x+-1.40594061')\n",
    "\n",
    "plt.xlim(2.2,7)\n",
    "plt.xlabel(\"Magnatude\")\n",
    "plt.ylabel(\"Log Relative Frequency\")\n",
    "plt.title(\"Linear Regression\")"
   ]
  },
  {
   "cell_type": "code",
   "execution_count": null,
   "metadata": {},
   "outputs": [],
   "source": []
  }
 ],
 "metadata": {
  "kernelspec": {
   "display_name": "Python 3",
   "language": "python",
   "name": "python3"
  },
  "language_info": {
   "codemirror_mode": {
    "name": "ipython",
    "version": 3
   },
   "file_extension": ".py",
   "mimetype": "text/x-python",
   "name": "python",
   "nbconvert_exporter": "python",
   "pygments_lexer": "ipython3",
   "version": "3.7.3"
  }
 },
 "nbformat": 4,
 "nbformat_minor": 2
}
